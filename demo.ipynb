{
 "cells": [
  {
   "cell_type": "code",
   "execution_count": 1,
   "id": "1867da5d-d039-4d1b-b886-e889f8455065",
   "metadata": {},
   "outputs": [],
   "source": [
    "from datasets import load_dataset\n",
    "from transformers import LlamaTokenizer\n",
    "from torch.utils.data import DataLoader\n",
    "from transformers import LlamaTokenizer, LlamaForCausalLM, LlamaConfig\n",
    "import torch"
   ]
  },
  {
   "cell_type": "code",
   "execution_count": 2,
   "id": "eb1da860-3b0c-4aa1-940c-b41001445b57",
   "metadata": {},
   "outputs": [
    {
     "name": "stderr",
     "output_type": "stream",
     "text": [
      "You are using the default legacy behaviour of the <class 'transformers.models.llama.tokenization_llama.LlamaTokenizer'>. This is expected, and simply means that the `legacy` (previous) behavior will be used so nothing changes for you. If you want to use the new behaviour, set `legacy=False`. This should only be set if you understand what it means, and thoroughly read the reason why this was added as explained in https://github.com/huggingface/transformers/pull/24565\n"
     ]
    },
    {
     "data": {
      "text/plain": [
       "SentimentClassifier(\n",
       "  (llama): LlamaModel(\n",
       "    (embed_tokens): Embedding(32000, 3200, padding_idx=0)\n",
       "    (layers): ModuleList(\n",
       "      (0-25): 26 x LlamaDecoderLayer(\n",
       "        (self_attn): LlamaSdpaAttention(\n",
       "          (q_proj): Linear(in_features=3200, out_features=3200, bias=False)\n",
       "          (k_proj): Linear(in_features=3200, out_features=3200, bias=False)\n",
       "          (v_proj): Linear(in_features=3200, out_features=3200, bias=False)\n",
       "          (o_proj): Linear(in_features=3200, out_features=3200, bias=False)\n",
       "          (rotary_emb): LlamaRotaryEmbedding()\n",
       "        )\n",
       "        (mlp): LlamaMLP(\n",
       "          (gate_proj): Linear(in_features=3200, out_features=8640, bias=False)\n",
       "          (up_proj): Linear(in_features=3200, out_features=8640, bias=False)\n",
       "          (down_proj): Linear(in_features=8640, out_features=3200, bias=False)\n",
       "          (act_fn): SiLU()\n",
       "        )\n",
       "        (input_layernorm): LlamaRMSNorm()\n",
       "        (post_attention_layernorm): LlamaRMSNorm()\n",
       "      )\n",
       "    )\n",
       "    (norm): LlamaRMSNorm()\n",
       "  )\n",
       "  (classifier): Linear(in_features=3200, out_features=2, bias=True)\n",
       ")"
      ]
     },
     "execution_count": 2,
     "metadata": {},
     "output_type": "execute_result"
    }
   ],
   "source": [
    "model_path = 'llama-3b'\n",
    "\n",
    "# 加载Tokenizer\n",
    "tokenizer = LlamaTokenizer.from_pretrained(model_path)\n",
    "\n",
    "# 设置EOS令牌作为填充令牌\n",
    "tokenizer.pad_token = tokenizer.eos_token\n",
    "\n",
    "class SentimentClassifier(torch.nn.Module):\n",
    "    def __init__(self, model, num_labels):\n",
    "        super(SentimentClassifier, self).__init__()\n",
    "        self.llama = model.model\n",
    "        self.classifier = torch.nn.Linear(model.config.hidden_size, num_labels)\n",
    "    \n",
    "    def forward(self, input_ids, attention_mask=None):\n",
    "        with torch.no_grad():\n",
    "            # 获取Llama模型的输出.float\n",
    "            outputs = self.llama(input_ids=input_ids, attention_mask=attention_mask)\n",
    "            # 使用hidden_states属性\n",
    "            hidden_states = outputs.last_hidden_state.float()  # 或 outputs[0] 如果outputs是元组\n",
    "            # 创建一个mask，以忽略padding token对平均值的贡献\n",
    "            #input_mask_expanded = attention_mask.unsqueeze(-1).expand(hidden_states.size()).float()\n",
    "            \n",
    "            #sum_embeddings = torch.sum(hidden_states * input_mask_expanded, 1)\n",
    "            #sum_mask = input_mask_expanded.sum(1)\n",
    "            #sum_mask = torch.clamp(sum_mask, min=1e-9)\n",
    "            #sequence_output = sum_embeddings / sum_mask\n",
    "            sequence_output = hidden_states[:,attention_mask.sum(1).item()-1,:]\n",
    "            #sequence_output = hidden_states[:, 0, :]  # 取序列的最后一个token的隐藏\n",
    "        logits = self.classifier(sequence_output)\n",
    "        return logits\n",
    "    \n",
    "# 加载预训练模型\n",
    "\n",
    "pretrained_model = LlamaForCausalLM.from_pretrained(model_path, torch_dtype=torch.float16, device_map='auto')\n",
    "for param in pretrained_model.parameters():\n",
    "    param.requires_grad = False\n",
    "\n",
    "# 实例化情感分类模型\n",
    "model = SentimentClassifier(pretrained_model, num_labels=2).cuda()\n",
    "model.classifier.load_state_dict(torch.load('classifier_linear_layer.pth'))\n",
    "model.eval()"
   ]
  },
  {
   "cell_type": "code",
   "execution_count": 3,
   "id": "b2980a5d-20eb-436c-a5f1-4d3a3f81d40c",
   "metadata": {},
   "outputs": [],
   "source": [
    "def sentiment_analysis(text):\n",
    "    input_ids = tokenizer(text, return_tensors=\"pt\", padding=True, truncation=True, max_length=512).input_ids.cuda()\n",
    "    attention_mask = torch.ones(input_ids.shape).long().cuda()\n",
    "    outputs = model(input_ids=input_ids, attention_mask=attention_mask)\n",
    "    preds = torch.argmax(outputs, dim=1)\n",
    "    return \"Positive\" if preds.item() == 1 else \"Negative\"\n"
   ]
  },
  {
   "cell_type": "code",
   "execution_count": 20,
   "id": "9ff7e3d1-0c0d-4353-9d21-0b1711c87d46",
   "metadata": {},
   "outputs": [
    {
     "name": "stdout",
     "output_type": "stream",
     "text": [
      "Negative\n"
     ]
    }
   ],
   "source": [
    "text = 'Trump has NEVER lost a debate to you. And Trump has said he will debate you anytime, anywhere. Let’s go, Crooked Joe. Name where and when you’ll debate him.What are you so scared of?'\n",
    "print(sentiment_analysis(text))"
   ]
  },
  {
   "cell_type": "code",
   "execution_count": null,
   "id": "cd485043-861b-4bab-b3f5-f61345e1b254",
   "metadata": {},
   "outputs": [],
   "source": []
  }
 ],
 "metadata": {
  "kernelspec": {
   "display_name": "Python 3 (ipykernel)",
   "language": "python",
   "name": "python3"
  },
  "language_info": {
   "codemirror_mode": {
    "name": "ipython",
    "version": 3
   },
   "file_extension": ".py",
   "mimetype": "text/x-python",
   "name": "python",
   "nbconvert_exporter": "python",
   "pygments_lexer": "ipython3",
   "version": "3.9.15"
  }
 },
 "nbformat": 4,
 "nbformat_minor": 5
}
